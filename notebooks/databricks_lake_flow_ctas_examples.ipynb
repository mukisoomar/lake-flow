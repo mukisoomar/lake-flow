{
 "cells": [
  {
   "cell_type": "markdown",
   "id": "ddf0f109",
   "metadata": {},
   "source": [
    "# Databricks Lake Flow - CTAS Examples\n",
    "\n",
    "This notebook contains all the CREATE TABLE AS SELECT (CTAS) examples from the Lake Flow project. You can run these examples directly on your Databricks cluster to explore Lake Flow capabilities.\n",
    "\n",
    "## Prerequisites\n",
    "- Databricks cluster with Delta Lake support\n",
    "- Databricks Runtime 13.3+ (for Liquid Clustering examples)\n",
    "- Sample data tables (created in this notebook)\n",
    "\n",
    "## What You'll Learn\n",
    "1. Basic CTAS with Delta Tables\n",
    "2. Partitioned Tables with Advanced Features\n",
    "3. Streaming Tables with Change Data Capture\n",
    "4. Materialized Views with Complex Aggregations\n",
    "5. Liquid Clustering (Databricks Runtime 13.3+)\n",
    "6. Multi-Hop Architecture (Bronze/Silver/Gold)\n",
    "7. Advanced Features (Generated Columns, Time Travel, etc.)"
   ]
  },
  {
   "cell_type": "markdown",
   "id": "7960f065",
   "metadata": {},
   "source": [
    "## Setup: Create Database and Sample Data\n",
    "\n",
    "First, let's create a database for our examples and populate it with sample data."
   ]
  },
  {
   "cell_type": "markdown",
   "id": "d7c6b06e",
   "metadata": {},
   "source": [
    "## 🔧 Configure Your Catalog and Schema\n",
    "\n",
    "**Before running the examples, you need to configure your target catalog and schema:**\n",
    "\n",
    "### Unity Catalog Setup (Recommended)\n",
    "\n",
    "1. **Choose your catalog**: This could be:\n",
    "   - `main` - Default catalog in most workspaces\n",
    "   - `dev`, `staging`, `prod` - Environment-specific catalogs\n",
    "   - Your custom catalog name\n",
    "\n",
    "2. **Choose your schema**: This could be:\n",
    "   - `lake_flow_demo` - For this demo\n",
    "   - `analytics`, `data_engineering` - Department-specific\n",
    "   - Your project-specific schema name\n",
    "\n",
    "3. **Update the next cell**: Replace `your_catalog` and `your_schema` with your actual values\n",
    "\n",
    "### Example Configurations:\n",
    "\n",
    "```sql\n",
    "-- For main catalog with demo schema\n",
    "USE CATALOG main;\n",
    "CREATE SCHEMA IF NOT EXISTS lake_flow_demo;\n",
    "USE SCHEMA lake_flow_demo;\n",
    "\n",
    "-- For dev environment\n",
    "USE CATALOG dev;\n",
    "CREATE SCHEMA IF NOT EXISTS analytics;\n",
    "USE SCHEMA analytics;\n",
    "\n",
    "-- For production with department schema\n",
    "USE CATALOG prod;\n",
    "CREATE SCHEMA IF NOT EXISTS data_engineering;\n",
    "USE SCHEMA data_engineering;\n",
    "```\n",
    "\n",
    "### Permissions Required:\n",
    "- **CREATE** permission on the catalog\n",
    "- **USE CATALOG** permission\n",
    "- **CREATE SCHEMA** permission (if schema doesn't exist)\n",
    "- **USE SCHEMA** permission\n",
    "\n",
    "💡 **Tip**: Contact your Databricks admin if you need permissions or help choosing the right catalog/schema."
   ]
  },
  {
   "cell_type": "code",
   "execution_count": null,
   "id": "b574d495",
   "metadata": {
    "vscode": {
     "languageId": "sql"
    }
   },
   "outputs": [],
   "source": [
    "-- ==================================================\n",
    "-- CONFIGURE YOUR CATALOG AND SCHEMA HERE\n",
    "-- ==================================================\n",
    "-- Replace 'your_catalog' and 'your_schema' with actual values\n",
    "-- Example: 'main' catalog and 'lake_flow_demo' schema\n",
    "-- Or: 'dev' catalog and 'analytics' schema\n",
    "\n",
    "-- Option 1: Use Unity Catalog with specific catalog and schema\n",
    "USE CATALOG your_catalog;\n",
    "CREATE SCHEMA IF NOT EXISTS your_schema;\n",
    "USE SCHEMA your_schema;\n",
    "\n",
    "-- Option 2: Alternative - Use three-level namespace directly\n",
    "-- CREATE SCHEMA IF NOT EXISTS your_catalog.your_schema;\n",
    "-- USE your_catalog.your_schema;\n",
    "\n",
    "-- Option 3: For workspaces without Unity Catalog (legacy)\n",
    "-- CREATE DATABASE IF NOT EXISTS lake_flow_demo;\n",
    "-- USE lake_flow_demo;\n",
    "\n",
    "-- Verify current namespace\n",
    "SELECT current_catalog() as current_catalog, current_database() as current_schema;"
   ]
  },
  {
   "cell_type": "markdown",
   "id": "543226db",
   "metadata": {},
   "source": [
    "### Create Sample Orders Table"
   ]
  },
  {
   "cell_type": "code",
   "execution_count": null,
   "id": "1fb19416",
   "metadata": {
    "vscode": {
     "languageId": "sql"
    }
   },
   "outputs": [],
   "source": [
    "-- Create sample orders table with realistic data\n",
    "DROP TABLE IF EXISTS orders;\n",
    "\n",
    "CREATE TABLE orders (\n",
    "  order_id INT,\n",
    "  customer_id INT,\n",
    "  product_id INT,\n",
    "  region STRING,\n",
    "  product_category STRING,\n",
    "  order_date DATE,\n",
    "  order_amount DECIMAL(10,2),\n",
    "  customer_segment STRING,\n",
    "  payment_method STRING,\n",
    "  discount_amount DECIMAL(10,2)\n",
    ") USING DELTA;\n",
    "\n",
    "-- Insert sample data\n",
    "INSERT INTO orders VALUES\n",
    "  (1, 101, 1001, 'North America', 'Electronics', '2024-01-15', 1250.00, 'Premium', 'Credit Card', 125.00),\n",
    "  (2, 102, 1002, 'Europe', 'Clothing', '2024-01-16', 890.50, 'Standard', 'PayPal', 0.00),\n",
    "  (3, 103, 1003, 'Asia Pacific', 'Electronics', '2024-01-17', 2100.75, 'Premium', 'Bank Transfer', 210.00),\n",
    "  (4, 104, 1001, 'North America', 'Home & Garden', '2024-01-18', 450.25, 'Standard', 'Credit Card', 45.00),\n",
    "  (5, 105, 1004, 'Europe', 'Electronics', '2024-01-19', 1780.00, 'Premium', 'Credit Card', 178.00),\n",
    "  (6, 101, 1005, 'North America', 'Clothing', '2024-01-20', 320.75, 'Premium', 'PayPal', 32.00),\n",
    "  (7, 106, 1002, 'Asia Pacific', 'Electronics', '2024-01-21', 950.00, 'Standard', 'Credit Card', 0.00),\n",
    "  (8, 107, 1003, 'Europe', 'Home & Garden', '2024-01-22', 675.50, 'Standard', 'Bank Transfer', 67.50),\n",
    "  (9, 108, 1006, 'North America', 'Electronics', '2024-01-23', 1450.25, 'Premium', 'Credit Card', 145.00),\n",
    "  (10, 102, 1007, 'Europe', 'Clothing', '2024-01-24', 580.00, 'Standard', 'PayPal', 58.00);\n",
    "\n",
    "-- Verify data\n",
    "SELECT COUNT(*) as record_count FROM orders;\n",
    "SELECT * FROM orders LIMIT 5;"
   ]
  },
  {
   "cell_type": "markdown",
   "id": "79d9de33",
   "metadata": {},
   "source": [
    "### Create Additional Sample Tables"
   ]
  },
  {
   "cell_type": "code",
   "execution_count": null,
   "id": "6d436ac5",
   "metadata": {
    "vscode": {
     "languageId": "sql"
    }
   },
   "outputs": [],
   "source": [
    "-- Create customers table\n",
    "DROP TABLE IF EXISTS customers;\n",
    "\n",
    "CREATE TABLE customers (\n",
    "  customer_id INT,\n",
    "  customer_name STRING,\n",
    "  email STRING,\n",
    "  registration_date DATE,\n",
    "  customer_segment STRING,\n",
    "  preferences MAP<STRING, STRING>\n",
    ") USING DELTA;\n",
    "\n",
    "INSERT INTO customers VALUES\n",
    "  (101, 'John Smith', 'john.smith@email.com', '2023-06-15', 'Premium', map('category', 'Electronics', 'newsletter', 'true')),\n",
    "  (102, 'Maria Garcia', 'maria.garcia@email.com', '2023-08-22', 'Standard', map('category', 'Clothing', 'newsletter', 'false')),\n",
    "  (103, 'David Chen', 'david.chen@email.com', '2023-05-10', 'Premium', map('category', 'Electronics', 'newsletter', 'true')),\n",
    "  (104, 'Sarah Johnson', 'sarah.johnson@email.com', '2023-09-03', 'Standard', map('category', 'Home & Garden', 'newsletter', 'true')),\n",
    "  (105, 'Ahmed Hassan', 'ahmed.hassan@email.com', '2023-07-18', 'Premium', map('category', 'Electronics', 'newsletter', 'true')),\n",
    "  (106, 'Lisa Wong', 'lisa.wong@email.com', '2023-10-12', 'Standard', map('category', 'Electronics', 'newsletter', 'false')),\n",
    "  (107, 'Pierre Dubois', 'pierre.dubois@email.com', '2023-04-25', 'Standard', map('category', 'Home & Garden', 'newsletter', 'true')),\n",
    "  (108, 'Jennifer Brown', 'jennifer.brown@email.com', '2023-11-08', 'Premium', map('category', 'Electronics', 'newsletter', 'true'));\n",
    "\n",
    "-- Create product inventory for streaming examples\n",
    "DROP TABLE IF EXISTS product_inventory_raw;\n",
    "\n",
    "CREATE TABLE product_inventory_raw (\n",
    "  product_id INT,\n",
    "  product_name STRING,\n",
    "  category STRING,\n",
    "  current_stock INT,\n",
    "  price DECIMAL(10,2),\n",
    "  last_updated TIMESTAMP\n",
    ") USING DELTA;\n",
    "\n",
    "INSERT INTO product_inventory_raw VALUES\n",
    "  (1001, 'Laptop Pro X1', 'Electronics', 45, 1299.99, '2024-01-20 10:30:00'),\n",
    "  (1002, 'Designer Jeans', 'Clothing', 120, 89.50, '2024-01-20 11:15:00'),\n",
    "  (1003, 'Smart TV 55\"', 'Electronics', 23, 899.99, '2024-01-20 12:00:00'),\n",
    "  (1004, 'Wireless Headphones', 'Electronics', 78, 199.99, '2024-01-20 13:45:00'),\n",
    "  (1005, 'Cotton T-Shirt', 'Clothing', 200, 24.99, '2024-01-20 14:30:00'),\n",
    "  (1006, 'Gaming Monitor', 'Electronics', 15, 449.99, '2024-01-20 15:15:00'),\n",
    "  (1007, 'Running Shoes', 'Clothing', 65, 129.99, '2024-01-20 16:00:00');\n",
    "\n",
    "SELECT 'Sample data created successfully' as status;"
   ]
  },
  {
   "cell_type": "markdown",
   "id": "9e55ab6c",
   "metadata": {},
   "source": [
    "## Example 1: Basic CTAS with Delta Table\n",
    "\n",
    "This example demonstrates basic CTAS functionality with Delta Lake properties, auto-optimization, and basic aggregations."
   ]
  },
  {
   "cell_type": "markdown",
   "id": "346791b5",
   "metadata": {},
   "source": [
    "## 📍 Table Storage Options\n",
    "\n",
    "When creating tables with Unity Catalog, you have several storage options:\n",
    "\n",
    "### 1. Managed Tables (Recommended)\n",
    "- **No LOCATION specified** - Unity Catalog manages storage automatically\n",
    "- **Benefits**: Automatic lifecycle management, integrated governance, optimized performance\n",
    "- **Best for**: Most use cases, especially in governed environments\n",
    "\n",
    "### 2. External Tables with Volumes\n",
    "- **LOCATION**: `/Volumes/catalog/schema/volume_name/table_name`\n",
    "- **Benefits**: Control over storage location while maintaining Unity Catalog features\n",
    "- **Best for**: When you need specific storage locations or integration with external systems\n",
    "\n",
    "### 3. External Tables with Cloud Storage\n",
    "- **LOCATION**: `s3://bucket/path/` or `abfss://container@account.dfs.core.windows.net/path/`\n",
    "- **Benefits**: Direct cloud storage integration\n",
    "- **Best for**: Migration scenarios or specific compliance requirements\n",
    "\n",
    "### 4. Legacy DBFS (Compatibility)\n",
    "- **LOCATION**: `/tmp/` or `/mnt/` paths\n",
    "- **Note**: For workspaces without Unity Catalog\n",
    "\n",
    "💡 **For this demo**: We'll use managed tables (no LOCATION) for simplicity. Uncomment LOCATION lines if you need external storage."
   ]
  },
  {
   "cell_type": "code",
   "execution_count": null,
   "id": "4f87473e",
   "metadata": {
    "vscode": {
     "languageId": "sql"
    }
   },
   "outputs": [],
   "source": [
    "-- Basic CTAS with Delta Table and Auto-Optimization\n",
    "DROP TABLE IF EXISTS order_summary_basic;\n",
    "\n",
    "CREATE OR REPLACE TABLE order_summary_basic\n",
    "USING DELTA\n",
    "-- Option 1: Use Unity Catalog managed tables (recommended - no LOCATION needed)\n",
    "-- Option 2: Use external location with catalog/schema structure\n",
    "-- LOCATION '/Volumes/your_catalog/your_schema/lake_flow_demo/order_summary_basic'\n",
    "-- Option 3: Use DBFS for legacy workspaces\n",
    "-- LOCATION '/tmp/lake_flow_demo/order_summary_basic'\n",
    "TBLPROPERTIES (\n",
    "  'delta.autoOptimize.optimizeWrite' = 'true',\n",
    "  'delta.autoOptimize.autoCompact' = 'true',\n",
    "  'delta.enableChangeDataFeed' = 'true'\n",
    ")\n",
    "AS\n",
    "SELECT \n",
    "  region,\n",
    "  product_category,\n",
    "  COUNT(*) as total_orders,\n",
    "  SUM(order_amount) as total_revenue,\n",
    "  AVG(order_amount) as avg_order_value,\n",
    "  MIN(order_date) as first_order_date,\n",
    "  MAX(order_date) as last_order_date\n",
    "FROM orders\n",
    "GROUP BY region, product_category\n",
    "ORDER BY total_revenue DESC;"
   ]
  },
  {
   "cell_type": "code",
   "execution_count": null,
   "id": "901d852c",
   "metadata": {
    "vscode": {
     "languageId": "sql"
    }
   },
   "outputs": [],
   "source": [
    "-- Verify the basic table\n",
    "SELECT * FROM order_summary_basic;\n",
    "\n",
    "-- Show table properties\n",
    "SHOW TBLPROPERTIES order_summary_basic;"
   ]
  },
  {
   "cell_type": "markdown",
   "id": "26262c70",
   "metadata": {},
   "source": [
    "## Example 2: Partitioned Tables with Advanced Features\n",
    "\n",
    "This example shows partitioning strategies, window functions, JSON data extraction, and customer segmentation."
   ]
  },
  {
   "cell_type": "code",
   "execution_count": null,
   "id": "c54920b6",
   "metadata": {
    "vscode": {
     "languageId": "sql"
    }
   },
   "outputs": [],
   "source": [
    "-- Partitioned Table with Advanced Analytics\n",
    "DROP TABLE IF EXISTS customer_analytics_partitioned;\n",
    "\n",
    "CREATE OR REPLACE TABLE customer_analytics_partitioned\n",
    "USING DELTA\n",
    "LOCATION '/tmp/lake_flow_demo/customer_analytics_partitioned'\n",
    "PARTITIONED BY (customer_segment, region)\n",
    "TBLPROPERTIES (\n",
    "  'delta.autoOptimize.optimizeWrite' = 'true',\n",
    "  'delta.autoOptimize.autoCompact' = 'true'\n",
    ")\n",
    "AS\n",
    "SELECT \n",
    "  c.customer_id,\n",
    "  c.customer_name,\n",
    "  c.email,\n",
    "  o.region,\n",
    "  c.customer_segment,\n",
    "  \n",
    "  -- JSON extraction from customer preferences\n",
    "  c.preferences['category'] as preferred_category,\n",
    "  CASE WHEN c.preferences['newsletter'] = 'true' THEN 'Subscribed' ELSE 'Not Subscribed' END as newsletter_status,\n",
    "  \n",
    "  -- Customer analytics with window functions\n",
    "  COUNT(o.order_id) as total_orders,\n",
    "  SUM(o.order_amount) as total_spent,\n",
    "  AVG(o.order_amount) as avg_order_value,\n",
    "  \n",
    "  -- Window function: Rank customers by spending within their segment\n",
    "  RANK() OVER (\n",
    "    PARTITION BY c.customer_segment, o.region\n",
    "    ORDER BY SUM(o.order_amount) DESC\n",
    "  ) as spending_rank_in_segment,\n",
    "  \n",
    "  -- Customer value classification\n",
    "  CASE \n",
    "    WHEN SUM(o.order_amount) > 2000 THEN 'High Value'\n",
    "    WHEN SUM(o.order_amount) > 1000 THEN 'Medium Value'\n",
    "    ELSE 'Low Value'\n",
    "  END as customer_value_tier,\n",
    "  \n",
    "  MIN(o.order_date) as first_purchase_date,\n",
    "  MAX(o.order_date) as last_purchase_date,\n",
    "  DATEDIFF(MAX(o.order_date), MIN(o.order_date)) as customer_lifetime_days\n",
    "  \n",
    "FROM customers c\n",
    "INNER JOIN orders o ON c.customer_id = o.customer_id\n",
    "GROUP BY \n",
    "  c.customer_id, c.customer_name, c.email, o.region, c.customer_segment,\n",
    "  c.preferences['category'], c.preferences['newsletter'];"
   ]
  },
  {
   "cell_type": "code",
   "execution_count": null,
   "id": "76fe5257",
   "metadata": {
    "vscode": {
     "languageId": "sql"
    }
   },
   "outputs": [],
   "source": [
    "-- Verify partitioned table\n",
    "SELECT * FROM customer_analytics_partitioned ORDER BY total_spent DESC;\n",
    "\n",
    "-- Show partition information\n",
    "SHOW PARTITIONS customer_analytics_partitioned;"
   ]
  },
  {
   "cell_type": "markdown",
   "id": "5e185024",
   "metadata": {},
   "source": [
    "## Example 3: Streaming Tables with Change Data Capture\n",
    "\n",
    "This example demonstrates streaming table creation with change data feed, surrogate key generation, and real-time processing patterns."
   ]
  },
  {
   "cell_type": "code",
   "execution_count": null,
   "id": "5eaaa2a6",
   "metadata": {
    "vscode": {
     "languageId": "sql"
    }
   },
   "outputs": [],
   "source": [
    "-- Streaming Table with Change Data Capture\n",
    "DROP TABLE IF EXISTS product_inventory_streaming;\n",
    "\n",
    "CREATE OR REPLACE TABLE product_inventory_streaming\n",
    "USING DELTA\n",
    "LOCATION '/tmp/lake_flow_demo/product_inventory_streaming'\n",
    "TBLPROPERTIES (\n",
    "  'delta.enableChangeDataFeed' = 'true',\n",
    "  'delta.autoOptimize.optimizeWrite' = 'true'\n",
    ")\n",
    "AS\n",
    "SELECT \n",
    "  -- Surrogate key generation using UUID\n",
    "  uuid() as inventory_key,\n",
    "  \n",
    "  product_id,\n",
    "  product_name,\n",
    "  category,\n",
    "  current_stock,\n",
    "  price,\n",
    "  \n",
    "  -- Inventory status classification\n",
    "  CASE \n",
    "    WHEN current_stock = 0 THEN 'Out of Stock'\n",
    "    WHEN current_stock < 20 THEN 'Low Stock'\n",
    "    WHEN current_stock < 50 THEN 'Medium Stock'\n",
    "    ELSE 'High Stock'\n",
    "  END as stock_status,\n",
    "  \n",
    "  -- Price tier classification\n",
    "  CASE \n",
    "    WHEN price < 50 THEN 'Budget'\n",
    "    WHEN price < 200 THEN 'Mid-Range'\n",
    "    WHEN price < 500 THEN 'Premium'\n",
    "    ELSE 'Luxury'\n",
    "  END as price_tier,\n",
    "  \n",
    "  -- Reorder point calculation (20% of max typical stock)\n",
    "  current_stock * 0.2 as reorder_point,\n",
    "  \n",
    "  -- Inventory value\n",
    "  current_stock * price as inventory_value,\n",
    "  \n",
    "  last_updated,\n",
    "  current_timestamp() as processed_timestamp\n",
    "  \n",
    "FROM product_inventory_raw;"
   ]
  },
  {
   "cell_type": "code",
   "execution_count": null,
   "id": "deb60f5a",
   "metadata": {
    "vscode": {
     "languageId": "sql"
    }
   },
   "outputs": [],
   "source": [
    "-- Verify streaming table\n",
    "SELECT * FROM product_inventory_streaming ORDER BY inventory_value DESC;\n",
    "\n",
    "-- Demonstrate change data feed (make a change first)\n",
    "UPDATE product_inventory_raw \n",
    "SET current_stock = current_stock - 5, last_updated = current_timestamp() \n",
    "WHERE product_id IN (1001, 1003);\n",
    "\n",
    "-- Re-create streaming table to capture changes\n",
    "INSERT INTO product_inventory_streaming\n",
    "SELECT \n",
    "  uuid() as inventory_key,\n",
    "  product_id, product_name, category, current_stock, price,\n",
    "  CASE \n",
    "    WHEN current_stock = 0 THEN 'Out of Stock'\n",
    "    WHEN current_stock < 20 THEN 'Low Stock'\n",
    "    WHEN current_stock < 50 THEN 'Medium Stock'\n",
    "    ELSE 'High Stock'\n",
    "  END as stock_status,\n",
    "  CASE \n",
    "    WHEN price < 50 THEN 'Budget'\n",
    "    WHEN price < 200 THEN 'Mid-Range'\n",
    "    WHEN price < 500 THEN 'Premium'\n",
    "    ELSE 'Luxury'\n",
    "  END as price_tier,\n",
    "  current_stock * 0.2 as reorder_point,\n",
    "  current_stock * price as inventory_value,\n",
    "  last_updated,\n",
    "  current_timestamp() as processed_timestamp\n",
    "FROM product_inventory_raw\n",
    "WHERE product_id IN (1001, 1003);"
   ]
  },
  {
   "cell_type": "markdown",
   "id": "d366bbe7",
   "metadata": {},
   "source": [
    "## Example 4: Materialized Views with Complex Aggregations\n",
    "\n",
    "This example shows statistical functions (percentiles, stddev), array aggregations, and conditional aggregations in materialized views."
   ]
  },
  {
   "cell_type": "code",
   "execution_count": null,
   "id": "a09d0365",
   "metadata": {
    "vscode": {
     "languageId": "sql"
    }
   },
   "outputs": [],
   "source": [
    "-- Create Materialized View with Complex Aggregations\n",
    "DROP MATERIALIZED VIEW IF EXISTS order_analytics_materialized;\n",
    "\n",
    "CREATE MATERIALIZED VIEW order_analytics_materialized\n",
    "AS\n",
    "SELECT \n",
    "  region,\n",
    "  product_category,\n",
    "  \n",
    "  -- Basic aggregations\n",
    "  COUNT(*) as total_orders,\n",
    "  SUM(order_amount) as total_revenue,\n",
    "  AVG(order_amount) as avg_order_value,\n",
    "  \n",
    "  -- Statistical functions\n",
    "  STDDEV(order_amount) as revenue_stddev,\n",
    "  PERCENTILE_APPROX(order_amount, 0.25) as revenue_25th_percentile,\n",
    "  PERCENTILE_APPROX(order_amount, 0.50) as revenue_median,\n",
    "  PERCENTILE_APPROX(order_amount, 0.75) as revenue_75th_percentile,\n",
    "  PERCENTILE_APPROX(order_amount, 0.95) as revenue_95th_percentile,\n",
    "  \n",
    "  -- Array aggregations\n",
    "  COLLECT_LIST(order_amount) as all_order_amounts,\n",
    "  COLLECT_SET(customer_id) as unique_customers,\n",
    "  ARRAY_DISTINCT(COLLECT_LIST(payment_method)) as payment_methods_used,\n",
    "  \n",
    "  -- Conditional aggregations\n",
    "  COUNT(CASE WHEN customer_segment = 'Premium' THEN 1 END) as premium_orders,\n",
    "  COUNT(CASE WHEN customer_segment = 'Standard' THEN 1 END) as standard_orders,\n",
    "  SUM(CASE WHEN payment_method = 'Credit Card' THEN order_amount ELSE 0 END) as credit_card_revenue,\n",
    "  SUM(CASE WHEN payment_method = 'PayPal' THEN order_amount ELSE 0 END) as paypal_revenue,\n",
    "  \n",
    "  -- Discount analysis\n",
    "  AVG(discount_amount) as avg_discount,\n",
    "  SUM(discount_amount) as total_discounts_given,\n",
    "  COUNT(CASE WHEN discount_amount > 0 THEN 1 END) as orders_with_discounts,\n",
    "  \n",
    "  -- Date range\n",
    "  MIN(order_date) as first_order_date,\n",
    "  MAX(order_date) as last_order_date,\n",
    "  DATEDIFF(MAX(order_date), MIN(order_date)) as date_range_days\n",
    "  \n",
    "FROM orders\n",
    "GROUP BY region, product_category;"
   ]
  },
  {
   "cell_type": "code",
   "execution_count": null,
   "id": "10db9700",
   "metadata": {
    "vscode": {
     "languageId": "sql"
    }
   },
   "outputs": [],
   "source": [
    "-- Query the materialized view\n",
    "SELECT \n",
    "  region,\n",
    "  product_category,\n",
    "  total_orders,\n",
    "  ROUND(total_revenue, 2) as total_revenue,\n",
    "  ROUND(avg_order_value, 2) as avg_order_value,\n",
    "  ROUND(revenue_median, 2) as median_order_value,\n",
    "  ROUND(revenue_stddev, 2) as order_value_stddev,\n",
    "  SIZE(unique_customers) as unique_customer_count,\n",
    "  payment_methods_used\n",
    "FROM order_analytics_materialized\n",
    "ORDER BY total_revenue DESC;"
   ]
  },
  {
   "cell_type": "markdown",
   "id": "7b101bcc",
   "metadata": {},
   "source": [
    "## Example 5: Liquid Clustering (Databricks Runtime 13.3+)\n",
    "\n",
    "This example demonstrates Liquid Clustering for advanced performance optimization with multi-dimensional clustering and analytics window functions."
   ]
  },
  {
   "cell_type": "code",
   "execution_count": null,
   "id": "b8011d68",
   "metadata": {
    "vscode": {
     "languageId": "sql"
    }
   },
   "outputs": [],
   "source": [
    "-- Liquid Clustering Example (requires Databricks Runtime 13.3+)\n",
    "DROP TABLE IF EXISTS sales_clustered;\n",
    "\n",
    "CREATE OR REPLACE TABLE sales_clustered\n",
    "USING DELTA\n",
    "LOCATION '/tmp/lake_flow_demo/sales_clustered'\n",
    "CLUSTER BY (region, product_category, order_date)\n",
    "TBLPROPERTIES (\n",
    "  'delta.autoOptimize.optimizeWrite' = 'true',\n",
    "  'delta.tuneFileSizesForRewrites' = 'true'\n",
    ")\n",
    "AS\n",
    "SELECT \n",
    "  order_id,\n",
    "  customer_id,\n",
    "  product_id,\n",
    "  region,\n",
    "  product_category,\n",
    "  order_date,\n",
    "  order_amount,\n",
    "  \n",
    "  -- Advanced window functions for customer analytics\n",
    "  ROW_NUMBER() OVER (\n",
    "    PARTITION BY customer_id\n",
    "    ORDER BY order_date\n",
    "  ) as order_sequence,\n",
    "  \n",
    "  LAG(order_amount) OVER (\n",
    "    PARTITION BY customer_id\n",
    "    ORDER BY order_date\n",
    "  ) as previous_order_amount,\n",
    "  \n",
    "  SUM(order_amount) OVER (\n",
    "    PARTITION BY customer_id\n",
    "    ORDER BY order_date\n",
    "    ROWS UNBOUNDED PRECEDING\n",
    "  ) as running_total,\n",
    "  \n",
    "  -- Date/time functions\n",
    "  DAYOFWEEK(order_date) as day_of_week,\n",
    "  QUARTER(order_date) as quarter,\n",
    "  DATE_ADD(order_date, 30) as expected_next_order\n",
    "  \n",
    "FROM orders\n",
    "WHERE order_date >= '2024-01-01';"
   ]
  },
  {
   "cell_type": "code",
   "execution_count": null,
   "id": "c265349c",
   "metadata": {
    "vscode": {
     "languageId": "sql"
    }
   },
   "outputs": [],
   "source": [
    "-- Query the clustered table\n",
    "SELECT \n",
    "  customer_id,\n",
    "  order_sequence,\n",
    "  order_date,\n",
    "  order_amount,\n",
    "  previous_order_amount,\n",
    "  running_total,\n",
    "  region,\n",
    "  product_category\n",
    "FROM sales_clustered\n",
    "ORDER BY customer_id, order_sequence;\n",
    "\n",
    "-- Show clustering information\n",
    "DESCRIBE DETAIL sales_clustered;"
   ]
  },
  {
   "cell_type": "markdown",
   "id": "b050a956",
   "metadata": {},
   "source": [
    "## Example 6: Multi-Hop Architecture (Bronze → Silver → Gold)\n",
    "\n",
    "This example demonstrates the medallion architecture with progressive data refinement through Bronze, Silver, and Gold layers."
   ]
  },
  {
   "cell_type": "markdown",
   "id": "d806b3b3",
   "metadata": {},
   "source": [
    "### Bronze Layer (Raw Data Ingestion)"
   ]
  },
  {
   "cell_type": "code",
   "execution_count": null,
   "id": "fc009b1e",
   "metadata": {
    "vscode": {
     "languageId": "sql"
    }
   },
   "outputs": [],
   "source": [
    "-- BRONZE LAYER: Raw data ingestion with minimal processing\n",
    "DROP TABLE IF EXISTS bronze_transactions;\n",
    "\n",
    "CREATE OR REPLACE TABLE bronze_transactions\n",
    "USING DELTA\n",
    "LOCATION '/tmp/lake_flow_demo/bronze_transactions'\n",
    "TBLPROPERTIES (\n",
    "  'delta.enableChangeDataFeed' = 'true'\n",
    ")\n",
    "AS\n",
    "SELECT \n",
    "  order_id,\n",
    "  customer_id,\n",
    "  product_id,\n",
    "  region,\n",
    "  product_category,\n",
    "  order_date,\n",
    "  order_amount,\n",
    "  customer_segment,\n",
    "  payment_method,\n",
    "  discount_amount,\n",
    "  \n",
    "  -- Metadata for lineage and auditing\n",
    "  current_timestamp() as ingestion_timestamp,\n",
    "  'orders_table' as source_system,\n",
    "  uuid() as bronze_record_id\n",
    "  \n",
    "FROM orders;"
   ]
  },
  {
   "cell_type": "markdown",
   "id": "d1e49072",
   "metadata": {},
   "source": [
    "### Silver Layer (Cleaned and Enriched Data)"
   ]
  },
  {
   "cell_type": "code",
   "execution_count": null,
   "id": "e36b6c68",
   "metadata": {
    "vscode": {
     "languageId": "sql"
    }
   },
   "outputs": [],
   "source": [
    "-- SILVER LAYER: Data quality, cleansing, and enrichment\n",
    "DROP TABLE IF EXISTS silver_transactions;\n",
    "\n",
    "CREATE OR REPLACE TABLE silver_transactions\n",
    "USING DELTA\n",
    "LOCATION '/tmp/lake_flow_demo/silver_transactions'\n",
    "TBLPROPERTIES (\n",
    "  'delta.enableChangeDataFeed' = 'true',\n",
    "  'delta.autoOptimize.optimizeWrite' = 'true'\n",
    ")\n",
    "AS\n",
    "SELECT \n",
    "  order_id,\n",
    "  customer_id,\n",
    "  product_id,\n",
    "  \n",
    "  -- Data standardization and cleansing\n",
    "  UPPER(TRIM(region)) as region_clean,\n",
    "  UPPER(TRIM(product_category)) as product_category_clean,\n",
    "  order_date,\n",
    "  \n",
    "  -- Data validation and quality checks\n",
    "  CASE \n",
    "    WHEN order_amount > 0 THEN order_amount \n",
    "    ELSE NULL \n",
    "  END as order_amount_validated,\n",
    "  \n",
    "  customer_segment,\n",
    "  payment_method,\n",
    "  \n",
    "  CASE \n",
    "    WHEN discount_amount >= 0 THEN discount_amount \n",
    "    ELSE 0 \n",
    "  END as discount_amount_validated,\n",
    "  \n",
    "  -- Business rule application and enrichment\n",
    "  order_amount - discount_amount as net_amount,\n",
    "  \n",
    "  CASE \n",
    "    WHEN order_amount - discount_amount > 1000 THEN 'High Value'\n",
    "    WHEN order_amount - discount_amount > 500 THEN 'Medium Value'\n",
    "    ELSE 'Low Value'\n",
    "  END as transaction_tier,\n",
    "  \n",
    "  -- Geospatial enrichment (simplified)\n",
    "  CASE \n",
    "    WHEN UPPER(region) = 'NORTH AMERICA' THEN 'Americas'\n",
    "    WHEN UPPER(region) = 'EUROPE' THEN 'EMEA'\n",
    "    WHEN UPPER(region) = 'ASIA PACIFIC' THEN 'APAC'\n",
    "    ELSE 'Other'\n",
    "  END as geo_region,\n",
    "  \n",
    "  -- Data quality indicators\n",
    "  CASE \n",
    "    WHEN order_amount IS NULL OR order_amount <= 0 THEN 'INVALID_AMOUNT'\n",
    "    WHEN customer_id IS NULL THEN 'MISSING_CUSTOMER'\n",
    "    WHEN product_id IS NULL THEN 'MISSING_PRODUCT'\n",
    "    ELSE 'VALID'\n",
    "  END as data_quality_flag,\n",
    "  \n",
    "  -- Processing metadata\n",
    "  current_timestamp() as silver_processed_timestamp,\n",
    "  bronze_record_id\n",
    "  \n",
    "FROM bronze_transactions\n",
    "WHERE order_amount IS NOT NULL AND order_amount > 0;"
   ]
  },
  {
   "cell_type": "markdown",
   "id": "0d029a34",
   "metadata": {},
   "source": [
    "### Gold Layer (Business-Ready Aggregated Data)"
   ]
  },
  {
   "cell_type": "code",
   "execution_count": null,
   "id": "d8139ea2",
   "metadata": {
    "vscode": {
     "languageId": "sql"
    }
   },
   "outputs": [],
   "source": [
    "-- GOLD LAYER: Business-ready aggregated data for analytics\n",
    "DROP TABLE IF EXISTS gold_regional_summary;\n",
    "\n",
    "CREATE OR REPLACE TABLE gold_regional_summary\n",
    "USING DELTA\n",
    "LOCATION '/tmp/lake_flow_demo/gold_regional_summary'\n",
    "PARTITIONED BY (geo_region)\n",
    "TBLPROPERTIES (\n",
    "  'delta.autoOptimize.optimizeWrite' = 'true',\n",
    "  'delta.autoOptimize.autoCompact' = 'true'\n",
    ")\n",
    "AS\n",
    "SELECT \n",
    "  geo_region,\n",
    "  region_clean as region,\n",
    "  product_category_clean as product_category,\n",
    "  \n",
    "  -- Business metrics and KPIs\n",
    "  COUNT(*) as total_transactions,\n",
    "  COUNT(DISTINCT customer_id) as unique_customers,\n",
    "  COUNT(DISTINCT product_id) as unique_products,\n",
    "  \n",
    "  -- Revenue metrics\n",
    "  SUM(order_amount_validated) as gross_revenue,\n",
    "  SUM(discount_amount_validated) as total_discounts,\n",
    "  SUM(net_amount) as net_revenue,\n",
    "  AVG(net_amount) as avg_transaction_value,\n",
    "  \n",
    "  -- Customer segmentation metrics\n",
    "  COUNT(CASE WHEN customer_segment = 'Premium' THEN 1 END) as premium_transactions,\n",
    "  COUNT(CASE WHEN customer_segment = 'Standard' THEN 1 END) as standard_transactions,\n",
    "  \n",
    "  -- Transaction tier distribution\n",
    "  COUNT(CASE WHEN transaction_tier = 'High Value' THEN 1 END) as high_value_transactions,\n",
    "  COUNT(CASE WHEN transaction_tier = 'Medium Value' THEN 1 END) as medium_value_transactions,\n",
    "  COUNT(CASE WHEN transaction_tier = 'Low Value' THEN 1 END) as low_value_transactions,\n",
    "  \n",
    "  -- Payment method analysis\n",
    "  COUNT(CASE WHEN payment_method = 'Credit Card' THEN 1 END) as credit_card_transactions,\n",
    "  COUNT(CASE WHEN payment_method = 'PayPal' THEN 1 END) as paypal_transactions,\n",
    "  COUNT(CASE WHEN payment_method = 'Bank Transfer' THEN 1 END) as bank_transfer_transactions,\n",
    "  \n",
    "  -- Data quality metrics\n",
    "  COUNT(CASE WHEN data_quality_flag = 'VALID' THEN 1 END) as valid_records,\n",
    "  COUNT(CASE WHEN data_quality_flag != 'VALID' THEN 1 END) as invalid_records,\n",
    "  \n",
    "  -- Time range\n",
    "  MIN(order_date) as period_start,\n",
    "  MAX(order_date) as period_end,\n",
    "  \n",
    "  -- Processing metadata\n",
    "  current_timestamp() as gold_processed_timestamp\n",
    "  \n",
    "FROM silver_transactions\n",
    "WHERE data_quality_flag = 'VALID'\n",
    "GROUP BY geo_region, region_clean, product_category_clean;"
   ]
  },
  {
   "cell_type": "code",
   "execution_count": null,
   "id": "6ffe1109",
   "metadata": {
    "vscode": {
     "languageId": "sql"
    }
   },
   "outputs": [],
   "source": [
    "-- Query the Gold layer for business insights\n",
    "SELECT \n",
    "  geo_region,\n",
    "  region,\n",
    "  product_category,\n",
    "  total_transactions,\n",
    "  unique_customers,\n",
    "  ROUND(net_revenue, 2) as net_revenue,\n",
    "  ROUND(avg_transaction_value, 2) as avg_transaction_value,\n",
    "  ROUND(100.0 * premium_transactions / total_transactions, 1) as premium_pct,\n",
    "  ROUND(100.0 * high_value_transactions / total_transactions, 1) as high_value_pct\n",
    "FROM gold_regional_summary\n",
    "ORDER BY net_revenue DESC;\n",
    "\n",
    "-- Show data lineage through the layers\n",
    "SELECT \n",
    "  'Bronze Layer' as layer, COUNT(*) as record_count FROM bronze_transactions\n",
    "UNION ALL\n",
    "SELECT \n",
    "  'Silver Layer' as layer, COUNT(*) as record_count FROM silver_transactions\n",
    "UNION ALL\n",
    "SELECT \n",
    "  'Gold Layer' as layer, COUNT(*) as record_count FROM gold_regional_summary;"
   ]
  },
  {
   "cell_type": "markdown",
   "id": "67a5c280",
   "metadata": {},
   "source": [
    "## Example 7: Advanced Features\n",
    "\n",
    "This example demonstrates generated columns, column mapping, deletion vectors, and time travel capabilities."
   ]
  },
  {
   "cell_type": "code",
   "execution_count": null,
   "id": "e9aad662",
   "metadata": {
    "vscode": {
     "languageId": "sql"
    }
   },
   "outputs": [],
   "source": [
    "-- Advanced Features: Generated Columns and Column Mapping\n",
    "DROP TABLE IF EXISTS orders_advanced;\n",
    "\n",
    "CREATE OR REPLACE TABLE orders_advanced (\n",
    "  order_id INT,\n",
    "  customer_id INT,\n",
    "  product_id INT,\n",
    "  region STRING,\n",
    "  product_category STRING,\n",
    "  order_date DATE,\n",
    "  order_amount DECIMAL(10,2),\n",
    "  discount_amount DECIMAL(10,2),\n",
    "  \n",
    "  -- Generated columns (computed automatically)\n",
    "  net_amount DECIMAL(10,2) GENERATED ALWAYS AS (order_amount - discount_amount),\n",
    "  order_year INT GENERATED ALWAYS AS (YEAR(order_date)),\n",
    "  order_quarter STRING GENERATED ALWAYS AS (CONCAT('Q', QUARTER(order_date), '-', YEAR(order_date))),\n",
    "  \n",
    "  -- Metadata columns\n",
    "  created_timestamp TIMESTAMP DEFAULT current_timestamp(),\n",
    "  updated_timestamp TIMESTAMP\n",
    ")\n",
    "USING DELTA\n",
    "LOCATION '/tmp/lake_flow_demo/orders_advanced'\n",
    "TBLPROPERTIES (\n",
    "  'delta.enableChangeDataFeed' = 'true',\n",
    "  'delta.enableDeletionVectors' = 'true',\n",
    "  'delta.columnMapping.mode' = 'name'\n",
    ");"
   ]
  },
  {
   "cell_type": "code",
   "execution_count": null,
   "id": "bb27dece",
   "metadata": {
    "vscode": {
     "languageId": "sql"
    }
   },
   "outputs": [],
   "source": [
    "-- Insert data into advanced table\n",
    "INSERT INTO orders_advanced (\n",
    "  order_id, customer_id, product_id, region, product_category, \n",
    "  order_date, order_amount, discount_amount, updated_timestamp\n",
    ")\n",
    "SELECT \n",
    "  order_id, customer_id, product_id, region, product_category,\n",
    "  order_date, order_amount, discount_amount, current_timestamp()\n",
    "FROM orders;\n",
    "\n",
    "-- Query showing generated columns\n",
    "SELECT \n",
    "  order_id,\n",
    "  order_date,\n",
    "  order_amount,\n",
    "  discount_amount,\n",
    "  net_amount,  -- Generated column\n",
    "  order_year,  -- Generated column\n",
    "  order_quarter, -- Generated column\n",
    "  region,\n",
    "  product_category\n",
    "FROM orders_advanced\n",
    "ORDER BY order_id;"
   ]
  },
  {
   "cell_type": "markdown",
   "id": "171add6f",
   "metadata": {},
   "source": [
    "### Demonstrate Time Travel"
   ]
  },
  {
   "cell_type": "code",
   "execution_count": null,
   "id": "ec83ccc4",
   "metadata": {
    "vscode": {
     "languageId": "sql"
    }
   },
   "outputs": [],
   "source": [
    "-- Show table history\n",
    "DESCRIBE HISTORY orders_advanced;\n",
    "\n",
    "-- Make some changes to demonstrate time travel\n",
    "UPDATE orders_advanced \n",
    "SET order_amount = order_amount * 1.1, updated_timestamp = current_timestamp()\n",
    "WHERE region = 'North America';\n",
    "\n",
    "-- Delete some records\n",
    "DELETE FROM orders_advanced WHERE order_amount < 500;\n",
    "\n",
    "-- Show current state\n",
    "SELECT COUNT(*) as current_count, AVG(order_amount) as avg_amount \n",
    "FROM orders_advanced;"
   ]
  },
  {
   "cell_type": "code",
   "execution_count": null,
   "id": "39bf2a55",
   "metadata": {
    "vscode": {
     "languageId": "sql"
    }
   },
   "outputs": [],
   "source": [
    "-- Time travel: Query previous version\n",
    "SELECT COUNT(*) as version_0_count, AVG(order_amount) as avg_amount\n",
    "FROM orders_advanced VERSION AS OF 0;\n",
    "\n",
    "-- Show the difference between versions\n",
    "SELECT \n",
    "  'Current' as version, COUNT(*) as record_count, ROUND(AVG(order_amount), 2) as avg_amount\n",
    "FROM orders_advanced\n",
    "UNION ALL\n",
    "SELECT \n",
    "  'Version 0' as version, COUNT(*) as record_count, ROUND(AVG(order_amount), 2) as avg_amount\n",
    "FROM orders_advanced VERSION AS OF 0;\n",
    "\n",
    "-- Show table history with details\n",
    "SELECT \n",
    "  version,\n",
    "  timestamp,\n",
    "  operation,\n",
    "  operationParameters,\n",
    "  readVersion\n",
    "FROM (DESCRIBE HISTORY orders_advanced)\n",
    "ORDER BY version DESC;"
   ]
  },
  {
   "cell_type": "markdown",
   "id": "df00a866",
   "metadata": {},
   "source": [
    "## Summary and Next Steps\n",
    "\n",
    "You've now seen all 7 Lake Flow CTAS examples in action:\n",
    "\n",
    "1. ✅ **Basic CTAS with Delta Table** - Auto-optimization and basic aggregations\n",
    "2. ✅ **Partitioned Tables** - Advanced features with window functions and JSON extraction\n",
    "3. ✅ **Streaming Tables** - Change Data Capture and real-time processing\n",
    "4. ✅ **Materialized Views** - Complex aggregations and statistical functions\n",
    "5. ✅ **Liquid Clustering** - Advanced performance optimization (Runtime 13.3+)\n",
    "6. ✅ **Multi-Hop Architecture** - Bronze/Silver/Gold medallion pattern\n",
    "7. ✅ **Advanced Features** - Generated columns, time travel, and deletion vectors\n",
    "\n",
    "### Performance Tips:\n",
    "- Use **Liquid Clustering** instead of Z-ordering for better performance\n",
    "- Enable **Auto Optimize** for automatic file compaction\n",
    "- Implement **Change Data Feed** for incremental processing\n",
    "- Use **Deletion Vectors** for efficient deletes\n",
    "\n",
    "### Next Steps:\n",
    "1. Experiment with your own data using these patterns\n",
    "2. Monitor query performance with different clustering strategies\n",
    "3. Implement incremental data processing workflows\n",
    "4. Explore advanced Delta Lake features like CDF and time travel"
   ]
  }
 ],
 "metadata": {
  "language_info": {
   "name": "python"
  }
 },
 "nbformat": 4,
 "nbformat_minor": 5
}
